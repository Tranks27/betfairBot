{
 "cells": [
  {
   "cell_type": "code",
   "execution_count": 1,
   "metadata": {},
   "outputs": [
    {
     "data": {
      "text/plain": [
       "<LoginResource>"
      ]
     },
     "execution_count": 1,
     "metadata": {},
     "output_type": "execute_result"
    }
   ],
   "source": [
    "# Import libraries\n",
    "import betfairlightweight\n",
    "from betfairlightweight import filters\n",
    "import pandas as pd\n",
    "import numpy as np\n",
    "import os\n",
    "import datetime\n",
    "import json\n",
    "from utils import process_runner_books\n",
    "import pytz\n",
    "import time\n",
    "from IPython.display import display\n",
    "\n",
    "# Project libraries\n",
    "import constants\n",
    "\n",
    "# Change this certs path to wherever you're storing your certificates\n",
    "certs_path = \"/home/naing/certs/\"\n",
    "# Change these login details to your own\n",
    "my_username = constants.USERNAME\n",
    "my_password = constants.PASSWORD\n",
    "# my_app_key = constants.API_KEY_DEMO #demo\n",
    "my_app_key = constants.API_KEY_LIVE #live\n",
    "\n",
    "trading = betfairlightweight.APIClient(username=my_username,\n",
    "                                       password=my_password,\n",
    "                                       app_key=my_app_key,\n",
    "                                       certs=certs_path)\n",
    "\n",
    "trading.login()"
   ]
  },
  {
   "cell_type": "code",
   "execution_count": 2,
   "metadata": {},
   "outputs": [
    {
     "data": {
      "text/plain": [
       "{'streaming_unique_id': None,\n",
       " 'streaming_update': None,\n",
       " 'streaming_snap': False,\n",
       " 'publish_time': None,\n",
       " 'elapsed_time': 0.41095900535583496,\n",
       " '_datetime_created': datetime.datetime(2022, 7, 3, 12, 22, 29, 662606),\n",
       " '_datetime_updated': datetime.datetime(2022, 7, 3, 12, 22, 29, 662606),\n",
       " '_data': {'currentOrders': [], 'moreAvailable': False},\n",
       " 'more_available': False,\n",
       " 'orders': [],\n",
       " 'matches': []}"
      ]
     },
     "execution_count": 2,
     "metadata": {},
     "output_type": "execute_result"
    }
   ],
   "source": [
    "#######################################\n",
    "# List the cleared orders\n",
    "#######################################\n",
    "myRaceID = '1.200715893'\n",
    "trading.betting.list_current_orders(\n",
    "    market_ids=[myRaceID]).__dict__\n"
   ]
  },
  {
   "cell_type": "code",
   "execution_count": 27,
   "metadata": {},
   "outputs": [
    {
     "name": "stdout",
     "output_type": "stream",
     "text": [
      "{'betId': '273046589972', 'marketId': '1.200715847', 'selectionId': 41419585, 'handicap': 0.0, 'priceSize': {'price': 6.0, 'size': 2.0}, 'bspLiability': 0.0, 'side': 'LAY', 'status': 'EXECUTABLE', 'persistenceType': 'LAPSE', 'orderType': 'LIMIT', 'placedDate': '2022-07-03T07:15:39.000Z', 'averagePriceMatched': 0.0, 'sizeMatched': 0.0, 'sizeRemaining': 2.0, 'sizeLapsed': 0.0, 'sizeCancelled': 0.0, 'sizeVoided': 0.0, 'regulatorCode': 'MALTA LOTTERIES AND GAMBLING AUTHORITY', 'customerStrategyRef': 'Naing_maker'}\n",
      "unmatched size =  2.0\n",
      "Order is not fully matched yet\n",
      "{'betId': '273046589972', 'newPrice': '6'}\n",
      "full order matched deliberately\n",
      "{'betId': '273046589972', 'marketId': '1.200715847', 'selectionId': 41419585, 'handicap': 0.0, 'priceSize': {'price': 6.0, 'size': 2.0}, 'bspLiability': 0.0, 'side': 'LAY', 'status': 'EXECUTABLE', 'persistenceType': 'LAPSE', 'orderType': 'LIMIT', 'placedDate': '2022-07-03T07:15:39.000Z', 'averagePriceMatched': 0.0, 'sizeMatched': 0.0, 'sizeRemaining': 2.0, 'sizeLapsed': 0.0, 'sizeCancelled': 0.0, 'sizeVoided': 0.0, 'regulatorCode': 'MALTA LOTTERIES AND GAMBLING AUTHORITY', 'customerStrategyRef': 'Naing_maker'}\n",
      "unmatched size =  2.0\n",
      "Order is not fully matched yet\n",
      "{'betId': '273046589972', 'newPrice': '6'}\n",
      "full order matched deliberately\n"
     ]
    },
    {
     "ename": "KeyboardInterrupt",
     "evalue": "",
     "output_type": "error",
     "traceback": [
      "\u001b[0;31m---------------------------------------------------------------------------\u001b[0m",
      "\u001b[0;31mKeyboardInterrupt\u001b[0m                         Traceback (most recent call last)",
      "\u001b[1;32m/home/naing/betfairBot/test.ipynb Cell 3'\u001b[0m in \u001b[0;36m<cell line: 33>\u001b[0;34m()\u001b[0m\n\u001b[1;32m     <a href='vscode-notebook-cell:/home/naing/betfairBot/test.ipynb#ch0000002?line=65'>66</a>\u001b[0m     \u001b[39mprint\u001b[39m(\u001b[39m\"\u001b[39m\u001b[39mfull order matched deliberately\u001b[39m\u001b[39m\"\u001b[39m)\n\u001b[1;32m     <a href='vscode-notebook-cell:/home/naing/betfairBot/test.ipynb#ch0000002?line=66'>67</a>\u001b[0m     \u001b[39m# fullyMatched_flag = True\u001b[39;00m\n\u001b[0;32m---> <a href='vscode-notebook-cell:/home/naing/betfairBot/test.ipynb#ch0000002?line=67'>68</a>\u001b[0m     time\u001b[39m.\u001b[39;49msleep(\u001b[39m5\u001b[39;49m)\n\u001b[1;32m     <a href='vscode-notebook-cell:/home/naing/betfairBot/test.ipynb#ch0000002?line=68'>69</a>\u001b[0m \u001b[39melse\u001b[39;00m:\n\u001b[1;32m     <a href='vscode-notebook-cell:/home/naing/betfairBot/test.ipynb#ch0000002?line=69'>70</a>\u001b[0m     \u001b[39mprint\u001b[39m(\u001b[39m\"\u001b[39m\u001b[39mFUll order matched\u001b[39m\u001b[39m\"\u001b[39m)\n",
      "\u001b[0;31mKeyboardInterrupt\u001b[0m: "
     ]
    }
   ],
   "source": [
    "def choose_lay_option_bf(price_filter, lay_selection_index):\n",
    "    # Request market books\n",
    "    market_books = trading.betting.list_market_book(\n",
    "        market_ids=[myRaceID],\n",
    "        price_projection=price_filter\n",
    "    )\n",
    "\n",
    "    # Grab the first market book from the returned list as we only requested one market \n",
    "    market_book = market_books[0]\n",
    "    runners_df = utils.process_runner_books(market_book.runners)\n",
    "    \n",
    "    display(runners_df)\n",
    "\n",
    "    #TODO: extract a list of IDs for the lay options\n",
    "    lay_options_ids = []\n",
    "    for obj in market_book.runners:\n",
    "        lay_options_ids.append(obj.selection_id)\n",
    "        \n",
    "    # if debug:\n",
    "    #     print(lay_options_ids)\n",
    "    \n",
    "    lay_selection_id = lay_options_ids[lay_selection_index]\n",
    "    print(\"lay_selection_id = \" + str(lay_selection_id))\n",
    "    fav_price = runners_df.loc[runners_df['Best Lay Price'].idxmin(), 'Best Lay Price']\n",
    "\n",
    "    return lay_selection_id, fav_price\n",
    "\n",
    "\n",
    "import utils\n",
    "\n",
    "fullyMatched_flag = False\n",
    "\n",
    "while fullyMatched_flag == False:\n",
    "    ## get the current order\n",
    "    current_orders = trading.betting.list_current_orders(\n",
    "        market_ids=[myRaceID])\n",
    "    single_current_order = current_orders._data['currentOrders'][0]\n",
    "    print(single_current_order)\n",
    "\n",
    "    unmatched_size = single_current_order['sizeRemaining']\n",
    "    print('unmatched size = ', unmatched_size)\n",
    "\n",
    "    ## if there's unmatched order, replace it with new price, else set the fullyMatched flag\n",
    "    if float(unmatched_size) != 0:\n",
    "        print(\"Order is not fully matched yet\")\n",
    "\n",
    "        # Get the new best Lay price\n",
    "        # price_filter = filters.price_projection(\n",
    "        #     price_data=['EX_BEST_OFFERS']\n",
    "        # )\n",
    "        # lay_selection_id, fav_price = choose_lay_option_bf(price_filter, 0)\n",
    "\n",
    "        ## Replace the unmatched order with the new price\n",
    "        replace_instructions_filter = filters.replace_instruction(\n",
    "            bet_id= single_current_order['betId'],\n",
    "            new_price= '6' #TODO\n",
    "        )\n",
    "        print(replace_instructions_filter)\n",
    "\n",
    "        newOrder = trading.betting.replace_orders(\n",
    "                market_id = myRaceID,\n",
    "                customer_ref='Naing_maker_NEW',\n",
    "                instructions=[replace_instructions_filter]\n",
    "            )\n",
    "\n",
    "        print(\"full order matched deliberately\")\n",
    "        # fullyMatched_flag = True\n",
    "        time.sleep(5)\n",
    "    else:\n",
    "        print(\"FUll order matched\")\n",
    "        fullyMatched_flag = True\n",
    "\n",
    "\n",
    "\n"
   ]
  },
  {
   "cell_type": "code",
   "execution_count": 3,
   "metadata": {},
   "outputs": [
    {
     "name": "stdout",
     "output_type": "stream",
     "text": [
      "{'price': '5', 'persistenceType': 'LAPSE', 'betTargetType': 'PAYOUT', 'betTargetSize': '10'}\n",
      "{'orderType': 'LIMIT', 'selectionId': '41419585', 'side': 'LAY', 'limitOrder': {'price': '5', 'persistenceType': 'LAPSE', 'betTargetType': 'PAYOUT', 'betTargetSize': '10'}}\n"
     ]
    }
   ],
   "source": [
    "# %%\n",
    "#######################################\n",
    "# Choose order type (limit order or market_on_close order - choose the latter)\n",
    "#######################################\n",
    "order_filter = filters.limit_order(\n",
    "    price='5',\n",
    "    persistence_type='LAPSE',\n",
    "    bet_target_type='PAYOUT',\n",
    "    bet_target_size='10' \n",
    ")\n",
    "print(order_filter)\n",
    "\n",
    "#######################################\n",
    "# Create a place instruction filter\n",
    "#######################################\n",
    "instructions_filter = filters.place_instruction(\n",
    "    selection_id = '41419585',\n",
    "    side=\"LAY\",\n",
    "    order_type = \"LIMIT\", # fixed price order\n",
    "    limit_order=order_filter\n",
    ")\n",
    "print(instructions_filter)\n",
    "\n",
    "\n",
    "# %%\n",
    "#######################################\n",
    "# Place the order\n",
    "#######################################\n",
    "order = trading.betting.place_orders(\n",
    "    market_id = myRaceID,\n",
    "    customer_strategy_ref='Naing_maker',\n",
    "    instructions=[instructions_filter]\n",
    ")"
   ]
  }
 ],
 "metadata": {
  "kernelspec": {
   "display_name": "Python 3.8.10 ('venv': venv)",
   "language": "python",
   "name": "python3"
  },
  "language_info": {
   "codemirror_mode": {
    "name": "ipython",
    "version": 3
   },
   "file_extension": ".py",
   "mimetype": "text/x-python",
   "name": "python",
   "nbconvert_exporter": "python",
   "pygments_lexer": "ipython3",
   "version": "3.8.10"
  },
  "orig_nbformat": 4,
  "vscode": {
   "interpreter": {
    "hash": "c6a3c28759d14a7c3885e8ac024d33cdb7136c92631d6827abd304ad80418337"
   }
  }
 },
 "nbformat": 4,
 "nbformat_minor": 2
}
