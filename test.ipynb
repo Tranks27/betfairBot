{
 "cells": [
  {
   "cell_type": "code",
   "execution_count": 1,
   "metadata": {},
   "outputs": [
    {
     "data": {
      "text/plain": [
       "<LoginResource>"
      ]
     },
     "execution_count": 1,
     "metadata": {},
     "output_type": "execute_result"
    }
   ],
   "source": [
    "# Import libraries\n",
    "import betfairlightweight\n",
    "from betfairlightweight import filters\n",
    "import pandas as pd\n",
    "import numpy as np\n",
    "import os\n",
    "import datetime\n",
    "import json\n",
    "from utils import process_runner_books\n",
    "import pytz\n",
    "import time\n",
    "from IPython.display import display\n",
    "\n",
    "# Project libraries\n",
    "import constants\n",
    "\n",
    "# Change this certs path to wherever you're storing your certificates\n",
    "certs_path = \"/home/naing/certs/\"\n",
    "# Change these login details to your own\n",
    "my_username = constants.USERNAME\n",
    "my_password = constants.PASSWORD\n",
    "my_app_key = constants.API_KEY_DEMO #demo\n",
    "# my_app_key = constants.API_KEY_LIVE #live\n",
    "\n",
    "trading = betfairlightweight.APIClient(username=my_username,\n",
    "                                       password=my_password,\n",
    "                                       app_key=my_app_key,\n",
    "                                       certs=certs_path)\n",
    "\n",
    "trading.login()"
   ]
  },
  {
   "cell_type": "code",
   "execution_count": 2,
   "metadata": {},
   "outputs": [
    {
     "data": {
      "text/plain": [
       "{'streaming_unique_id': None,\n",
       " 'streaming_update': None,\n",
       " 'streaming_snap': False,\n",
       " 'publish_time': None,\n",
       " 'elapsed_time': 0.41727399826049805,\n",
       " '_datetime_created': datetime.datetime(2022, 6, 26, 6, 22, 10, 915768),\n",
       " '_datetime_updated': datetime.datetime(2022, 6, 26, 6, 22, 10, 915768),\n",
       " '_data': {'currentOrders': [{'betId': '272422556320',\n",
       "    'marketId': '1.200514886',\n",
       "    'selectionId': 41419585,\n",
       "    'handicap': 0.0,\n",
       "    'priceSize': {'price': 5.0, 'size': 5.0},\n",
       "    'bspLiability': 0.0,\n",
       "    'side': 'LAY',\n",
       "    'status': 'EXECUTABLE',\n",
       "    'persistenceType': 'LAPSE',\n",
       "    'orderType': 'LIMIT',\n",
       "    'placedDate': '2022-06-26T06:14:58.000Z',\n",
       "    'averagePriceMatched': 0.0,\n",
       "    'sizeMatched': 0.0,\n",
       "    'sizeRemaining': 5.0,\n",
       "    'sizeLapsed': 0.0,\n",
       "    'sizeCancelled': 0.0,\n",
       "    'sizeVoided': 0.0,\n",
       "    'regulatorCode': 'MALTA LOTTERIES AND GAMBLING AUTHORITY'}],\n",
       "  'moreAvailable': False},\n",
       " 'more_available': False,\n",
       " 'orders': [<betfairlightweight.resources.bettingresources.CurrentOrder at 0x7f21f0649910>],\n",
       " 'matches': []}"
      ]
     },
     "execution_count": 2,
     "metadata": {},
     "output_type": "execute_result"
    }
   ],
   "source": [
    "#######################################\n",
    "# List the cleared orders\n",
    "#######################################\n",
    "myRaceID = 1.200514886\n",
    "trading.betting.list_current_orders(\n",
    "    market_ids=[myRaceID]).__dict__\n"
   ]
  },
  {
   "cell_type": "code",
   "execution_count": 7,
   "metadata": {},
   "outputs": [
    {
     "name": "stdout",
     "output_type": "stream",
     "text": [
      "{'betId': '272422556320', 'marketId': '1.200514886', 'selectionId': 41419585, 'handicap': 0.0, 'priceSize': {'price': 5.0, 'size': 5.0}, 'bspLiability': 0.0, 'side': 'LAY', 'status': 'EXECUTABLE', 'persistenceType': 'LAPSE', 'orderType': 'LIMIT', 'placedDate': '2022-06-26T06:14:58.000Z', 'averagePriceMatched': 0.0, 'sizeMatched': 0.0, 'sizeRemaining': 5.0, 'sizeLapsed': 0.0, 'sizeCancelled': 0.0, 'sizeVoided': 0.0, 'regulatorCode': 'MALTA LOTTERIES AND GAMBLING AUTHORITY'}\n",
      "prev_price =  5.0\n",
      "new price =  5.1\n",
      "unmatched size =  5.0\n",
      "TRUE\n"
     ]
    }
   ],
   "source": [
    "from utils import get_new_price\n",
    "\n",
    "current_orders = trading.betting.list_current_orders(\n",
    "    market_ids=[myRaceID])\n",
    "\n",
    "single_order = current_orders._data['currentOrders'][0]\n",
    "print(single_order)\n",
    "\n",
    "prev_price = single_order['priceSize']['price']\n",
    "print('prev_price = ', prev_price)\n",
    "\n",
    "new_price = get_new_price(prev_price)\n",
    "print('new price = ', new_price)\n",
    "\n",
    "unmatched_size = single_order['sizeRemaining']\n",
    "print('unmatched size = ', unmatched_size)\n",
    "\n",
    "if float(unmatched_size) != 0:\n",
    "    print(\"TRUE\")\n",
    "else:\n",
    "    print(\"FALSE\")"
   ]
  },
  {
   "cell_type": "code",
   "execution_count": null,
   "metadata": {},
   "outputs": [],
   "source": []
  }
 ],
 "metadata": {
  "kernelspec": {
   "display_name": "Python 3.8.10 ('venv': venv)",
   "language": "python",
   "name": "python3"
  },
  "language_info": {
   "codemirror_mode": {
    "name": "ipython",
    "version": 3
   },
   "file_extension": ".py",
   "mimetype": "text/x-python",
   "name": "python",
   "nbconvert_exporter": "python",
   "pygments_lexer": "ipython3",
   "version": "3.8.10"
  },
  "orig_nbformat": 4,
  "vscode": {
   "interpreter": {
    "hash": "c6a3c28759d14a7c3885e8ac024d33cdb7136c92631d6827abd304ad80418337"
   }
  }
 },
 "nbformat": 4,
 "nbformat_minor": 2
}
