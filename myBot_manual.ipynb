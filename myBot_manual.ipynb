{
 "cells": [
  {
   "cell_type": "code",
   "execution_count": 9,
   "metadata": {},
   "outputs": [
    {
     "data": {
      "text/plain": [
       "<LoginResource>"
      ]
     },
     "execution_count": 9,
     "metadata": {},
     "output_type": "execute_result"
    }
   ],
   "source": [
    "# Import libraries\n",
    "import betfairlightweight\n",
    "from betfairlightweight import filters\n",
    "import pandas as pd\n",
    "import numpy as np\n",
    "import os\n",
    "import datetime\n",
    "import json\n",
    "from utils import process_runner_books\n",
    "import pytz\n",
    "\n",
    "\n",
    "# Change this certs path to wherever you're storing your certificates\n",
    "certs_path = \"/home/naing/certs/\"\n",
    "\n",
    "# Change these login details to your own\n",
    "my_username = \"mightytranks@gmail.com\"\n",
    "my_password = \"OsGiwuevzRf4925Lfty!\"\n",
    "# my_app_key = \"X9EGwt5zbpg8o5xk\" #demo\n",
    "my_app_key = \"XzTt9hf8DAsmOuUa\" #live\n",
    "\n",
    "trading = betfairlightweight.APIClient(username=my_username,\n",
    "                                       password=my_password,\n",
    "                                       app_key=my_app_key,\n",
    "                                       certs=certs_path)\n",
    "\n",
    "trading.login()\n"
   ]
  },
  {
   "cell_type": "code",
   "execution_count": 10,
   "metadata": {},
   "outputs": [
    {
     "data": {
      "text/plain": [
       "{'eventTypeIds': [4339],\n",
       " 'marketCountries': ['GB'],\n",
       " 'marketTypeCodes': ['FORECAST'],\n",
       " 'marketStartTime': {'to': '2022-06-19T19:47:22Z'}}"
      ]
     },
     "execution_count": 10,
     "metadata": {},
     "output_type": "execute_result"
    }
   ],
   "source": [
    "gh_racing_id = 4339 #Greyhound racing ID\n",
    "# Filter for just greyhoud racing\n",
    "greyhound_racing_filter = filters.market_filter(\n",
    "    event_type_ids=[gh_racing_id],\n",
    "    market_countries=['GB'],\n",
    "    market_type_codes=['FORECAST'],\n",
    "    market_start_time={\n",
    "        'to': (datetime.datetime.utcnow() + datetime.timedelta(hours=6)).strftime(\"%Y-%m-%dT%TZ\") #sydtime 5pm to 7am next day for GB gh races\n",
    "    }\n",
    ")\n",
    "greyhound_racing_filter\n"
   ]
  },
  {
   "cell_type": "code",
   "execution_count": 11,
   "metadata": {},
   "outputs": [
    {
     "data": {
      "text/html": [
       "<div>\n",
       "<style scoped>\n",
       "    .dataframe tbody tr th:only-of-type {\n",
       "        vertical-align: middle;\n",
       "    }\n",
       "\n",
       "    .dataframe tbody tr th {\n",
       "        vertical-align: top;\n",
       "    }\n",
       "\n",
       "    .dataframe thead th {\n",
       "        text-align: right;\n",
       "    }\n",
       "</style>\n",
       "<table border=\"1\" class=\"dataframe\">\n",
       "  <thead>\n",
       "    <tr style=\"text-align: right;\">\n",
       "      <th></th>\n",
       "      <th>Event Name</th>\n",
       "      <th>Event ID</th>\n",
       "      <th>Event Venue</th>\n",
       "      <th>Country Code</th>\n",
       "      <th>Time Zone</th>\n",
       "      <th>Open Date</th>\n",
       "      <th>Market Count</th>\n",
       "    </tr>\n",
       "  </thead>\n",
       "  <tbody>\n",
       "    <tr>\n",
       "      <th>0</th>\n",
       "      <td>Swindon (F/C) 19th Jun</td>\n",
       "      <td>31536112</td>\n",
       "      <td>Swindon</td>\n",
       "      <td>GB</td>\n",
       "      <td>Europe/London</td>\n",
       "      <td>2022-06-19 17:19:00</td>\n",
       "      <td>10</td>\n",
       "    </tr>\n",
       "    <tr>\n",
       "      <th>1</th>\n",
       "      <td>Kinsley (F/C) 19th Jun</td>\n",
       "      <td>31536083</td>\n",
       "      <td>Kinsley</td>\n",
       "      <td>GB</td>\n",
       "      <td>Europe/London</td>\n",
       "      <td>2022-06-19 13:04:00</td>\n",
       "      <td>9</td>\n",
       "    </tr>\n",
       "    <tr>\n",
       "      <th>2</th>\n",
       "      <td>Henlow (F/C) 19th Jun</td>\n",
       "      <td>31536131</td>\n",
       "      <td>Henlow</td>\n",
       "      <td>GB</td>\n",
       "      <td>Europe/London</td>\n",
       "      <td>2022-06-19 17:17:00</td>\n",
       "      <td>9</td>\n",
       "    </tr>\n",
       "    <tr>\n",
       "      <th>3</th>\n",
       "      <td>Central Park (F/C) 19th Jun</td>\n",
       "      <td>31536125</td>\n",
       "      <td>Central Park</td>\n",
       "      <td>GB</td>\n",
       "      <td>Europe/London</td>\n",
       "      <td>2022-06-19 17:09:00</td>\n",
       "      <td>9</td>\n",
       "    </tr>\n",
       "    <tr>\n",
       "      <th>4</th>\n",
       "      <td>Towcester (F/C) 19th Jun</td>\n",
       "      <td>31536095</td>\n",
       "      <td>Towcester</td>\n",
       "      <td>GB</td>\n",
       "      <td>Europe/London</td>\n",
       "      <td>2022-06-19 12:57:00</td>\n",
       "      <td>11</td>\n",
       "    </tr>\n",
       "  </tbody>\n",
       "</table>\n",
       "</div>"
      ],
      "text/plain": [
       "                    Event Name  Event ID   Event Venue Country Code  \\\n",
       "0       Swindon (F/C) 19th Jun  31536112       Swindon           GB   \n",
       "1       Kinsley (F/C) 19th Jun  31536083       Kinsley           GB   \n",
       "2        Henlow (F/C) 19th Jun  31536131        Henlow           GB   \n",
       "3  Central Park (F/C) 19th Jun  31536125  Central Park           GB   \n",
       "4     Towcester (F/C) 19th Jun  31536095     Towcester           GB   \n",
       "\n",
       "       Time Zone           Open Date  Market Count  \n",
       "0  Europe/London 2022-06-19 17:19:00            10  \n",
       "1  Europe/London 2022-06-19 13:04:00             9  \n",
       "2  Europe/London 2022-06-19 17:17:00             9  \n",
       "3  Europe/London 2022-06-19 17:09:00             9  \n",
       "4  Europe/London 2022-06-19 12:57:00            11  "
      ]
     },
     "execution_count": 11,
     "metadata": {},
     "output_type": "execute_result"
    }
   ],
   "source": [
    "#  This returns a list\n",
    "gb_gh_events = trading.betting.list_events(\n",
    "    filter=greyhound_racing_filter)\n",
    "\n",
    "# Create a DataFrame with all the events by iterating over each event object\n",
    "gb_gh_events_df = pd.DataFrame({\n",
    "    'Event Name': [event_object.event.name for event_object in gb_gh_events],\n",
    "    'Event ID': [event_object.event.id for event_object in gb_gh_events],\n",
    "    'Event Venue': [event_object.event.venue for event_object in gb_gh_events],\n",
    "    'Country Code': [event_object.event.country_code for event_object in gb_gh_events],\n",
    "    'Time Zone': [event_object.event.time_zone for event_object in gb_gh_events],\n",
    "    'Open Date': [event_object.event.open_date for event_object in gb_gh_events],\n",
    "    'Market Count': [event_object.market_count for event_object in gb_gh_events]\n",
    "})\n",
    "\n",
    "gb_gh_events_df"
   ]
  },
  {
   "cell_type": "code",
   "execution_count": 12,
   "metadata": {},
   "outputs": [
    {
     "data": {
      "text/plain": [
       "(['31536112', '31536083', '31536131', '31536125', '31536095'],\n",
       " ['Swindon (F/C) 19th Jun',\n",
       "  'Kinsley (F/C) 19th Jun',\n",
       "  'Henlow (F/C) 19th Jun',\n",
       "  'Central Park (F/C) 19th Jun',\n",
       "  'Towcester (F/C) 19th Jun'])"
      ]
     },
     "execution_count": 12,
     "metadata": {},
     "output_type": "execute_result"
    }
   ],
   "source": [
    "#TODO: extract a list of IDs for the forecast markets\n",
    "fc_venue_ids = []\n",
    "fc_venue_names = []\n",
    "for eventObj in gb_gh_events:\n",
    "    fc_venue_ids.append(eventObj.event.id)\n",
    "    fc_venue_names.append(eventObj.event.name)\n",
    "\n",
    "fc_venue_ids, fc_venue_names\n"
   ]
  },
  {
   "cell_type": "code",
   "execution_count": 13,
   "metadata": {},
   "outputs": [
    {
     "data": {
      "text/html": [
       "<div>\n",
       "<style scoped>\n",
       "    .dataframe tbody tr th:only-of-type {\n",
       "        vertical-align: middle;\n",
       "    }\n",
       "\n",
       "    .dataframe tbody tr th {\n",
       "        vertical-align: top;\n",
       "    }\n",
       "\n",
       "    .dataframe thead th {\n",
       "        text-align: right;\n",
       "    }\n",
       "</style>\n",
       "<table border=\"1\" class=\"dataframe\">\n",
       "  <thead>\n",
       "    <tr style=\"text-align: right;\">\n",
       "      <th></th>\n",
       "      <th>Market Name</th>\n",
       "      <th>Market ID</th>\n",
       "      <th>Market Start Time</th>\n",
       "      <th>Total Matched</th>\n",
       "      <th>Venue</th>\n",
       "    </tr>\n",
       "  </thead>\n",
       "  <tbody>\n",
       "    <tr>\n",
       "      <th>0</th>\n",
       "      <td>Forecast</td>\n",
       "      <td>1.200287435</td>\n",
       "      <td>2022-06-19 13:52:00</td>\n",
       "      <td>17.69000</td>\n",
       "      <td>Towcester</td>\n",
       "    </tr>\n",
       "    <tr>\n",
       "      <th>1</th>\n",
       "      <td>Forecast</td>\n",
       "      <td>1.200287392</td>\n",
       "      <td>2022-06-19 13:54:00</td>\n",
       "      <td>0.00000</td>\n",
       "      <td>Kinsley</td>\n",
       "    </tr>\n",
       "    <tr>\n",
       "      <th>2</th>\n",
       "      <td>Forecast</td>\n",
       "      <td>1.200287393</td>\n",
       "      <td>2022-06-19 14:09:00</td>\n",
       "      <td>86.46872</td>\n",
       "      <td>Kinsley</td>\n",
       "    </tr>\n",
       "    <tr>\n",
       "      <th>3</th>\n",
       "      <td>Forecast</td>\n",
       "      <td>1.200287436</td>\n",
       "      <td>2022-06-19 14:11:00</td>\n",
       "      <td>90.89122</td>\n",
       "      <td>Towcester</td>\n",
       "    </tr>\n",
       "    <tr>\n",
       "      <th>4</th>\n",
       "      <td>Forecast</td>\n",
       "      <td>1.200287394</td>\n",
       "      <td>2022-06-19 14:26:00</td>\n",
       "      <td>0.00000</td>\n",
       "      <td>Kinsley</td>\n",
       "    </tr>\n",
       "  </tbody>\n",
       "</table>\n",
       "</div>"
      ],
      "text/plain": [
       "  Market Name    Market ID   Market Start Time  Total Matched      Venue\n",
       "0    Forecast  1.200287435 2022-06-19 13:52:00       17.69000  Towcester\n",
       "1    Forecast  1.200287392 2022-06-19 13:54:00        0.00000    Kinsley\n",
       "2    Forecast  1.200287393 2022-06-19 14:09:00       86.46872    Kinsley\n",
       "3    Forecast  1.200287436 2022-06-19 14:11:00       90.89122  Towcester\n",
       "4    Forecast  1.200287394 2022-06-19 14:26:00        0.00000    Kinsley"
      ]
     },
     "execution_count": 13,
     "metadata": {},
     "output_type": "execute_result"
    }
   ],
   "source": [
    "# market_catalogue_filter = filters.market_filter(event_ids=[venueOfTheDay_id])\n",
    "market_catalogue_filter = filters.market_filter(\n",
    "    event_ids=fc_venue_ids)\n",
    "\n",
    "market_catalogues = trading.betting.list_market_catalogue(\n",
    "    filter=market_catalogue_filter,\n",
    "    market_projection= ['MARKET_START_TIME', 'EVENT'],\n",
    "    max_results='5',\n",
    "    sort='FIRST_TO_START'\n",
    ")\n",
    "\n",
    "market_types_venueOfTheDay_df = pd.DataFrame({\n",
    "    'Market Name': [market_cat_object.market_name for market_cat_object in market_catalogues],\n",
    "    'Market ID': [market_cat_object.market_id for market_cat_object in market_catalogues],\n",
    "    'Market Start Time': [market_cat_object.market_start_time for market_cat_object in market_catalogues],\n",
    "    'Total Matched': [market_cat_object.total_matched for market_cat_object in market_catalogues],\n",
    "    'Venue': [market_cat_object.event.venue for market_cat_object in market_catalogues]\n",
    "    \n",
    "})\n",
    "\n",
    "market_types_venueOfTheDay_df"
   ]
  },
  {
   "cell_type": "code",
   "execution_count": 15,
   "metadata": {},
   "outputs": [
    {
     "name": "stdout",
     "output_type": "stream",
     "text": [
      "2022-06-19 13:48:22\n",
      "Found the market to lay: Name = Towcester id = 1.200287435\n"
     ]
    }
   ],
   "source": [
    "timeNow = (datetime.datetime.now(pytz.timezone(\"Europe/London\"))-datetime.timedelta(hours=1)) ## minus 1 hr due to daylight savings maybe?\n",
    "print(timeNow.strftime(\"%Y-%m-%d %T\"))\n",
    "## TODO Compare the list of markets - if timeNow is less than market start time (ie. market hasn't started yet), pick it. Otherwise, skip\n",
    "time1 = timeNow.replace(tzinfo=pytz.UTC)\n",
    "\n",
    "for marketObj in market_catalogues:\n",
    "    time2 = marketObj.market_start_time.replace(tzinfo=pytz.UTC)\n",
    "    if time1 < time2:\n",
    "        print(\"Found the market to lay: Name = \" + marketObj.event.venue + \" id = \" + str(marketObj.market_id))\n",
    "        break\n",
    "\n"
   ]
  },
  {
   "cell_type": "code",
   "execution_count": null,
   "metadata": {},
   "outputs": [],
   "source": [
    "# ###\n",
    "# # Get odds from NEDS\n",
    "# ###\n",
    "# from utils import choose_lay_option\n",
    "\n",
    "# venueName = 'doncaster'\n",
    "# lay_option = choose_lay_option(venueName)\n",
    "# if(lay_option == -1):\n",
    "#     print(\"ERROR!!! 2 same odds found\")\n",
    "    \n",
    "# elif(lay_option == -2):\n",
    "#     print(\"ERROR!!! less than 6 runners\")\n",
    "\n",
    "# else:\n",
    "#     print(\"Lay option found successfully\")\n",
    "#     print(lay_option)"
   ]
  },
  {
   "cell_type": "code",
   "execution_count": 21,
   "metadata": {},
   "outputs": [
    {
     "data": {
      "text/plain": [
       "['1.200268737',\n",
       " '1.200268738',\n",
       " '1.200268739',\n",
       " '1.200270275',\n",
       " '1.200270276',\n",
       " '1.200270277',\n",
       " '1.200270278',\n",
       " '1.200270279',\n",
       " '1.200268788',\n",
       " '1.200268964']"
      ]
     },
     "execution_count": 21,
     "metadata": {},
     "output_type": "execute_result"
    }
   ],
   "source": [
    "#TODO: extract a list of IDs for the forecast markets\n",
    "fc_race_ids = []\n",
    "fc_race_names = []\n",
    "for raceObj in market_catalogues:\n",
    "    fc_race_ids.append(raceObj.market_id)\n",
    "\n",
    "fc_race_ids"
   ]
  },
  {
   "cell_type": "code",
   "execution_count": 22,
   "metadata": {},
   "outputs": [],
   "source": [
    "# pick the random race id\n",
    "# random_pick = random.randint(1,len(fc_race_ids))\n",
    "# myRaceID = fc_race_ids[0]\n",
    "myRaceID = '1.200268737'"
   ]
  },
  {
   "cell_type": "code",
   "execution_count": 23,
   "metadata": {},
   "outputs": [
    {
     "data": {
      "text/html": [
       "<div>\n",
       "<style scoped>\n",
       "    .dataframe tbody tr th:only-of-type {\n",
       "        vertical-align: middle;\n",
       "    }\n",
       "\n",
       "    .dataframe tbody tr th {\n",
       "        vertical-align: top;\n",
       "    }\n",
       "\n",
       "    .dataframe thead th {\n",
       "        text-align: right;\n",
       "    }\n",
       "</style>\n",
       "<table border=\"1\" class=\"dataframe\">\n",
       "  <thead>\n",
       "    <tr style=\"text-align: right;\">\n",
       "      <th></th>\n",
       "      <th>keyLineDescription</th>\n",
       "      <th>Num_active_runners</th>\n",
       "    </tr>\n",
       "  </thead>\n",
       "  <tbody>\n",
       "    <tr>\n",
       "      <th>0</th>\n",
       "      <td>None</td>\n",
       "      <td>30</td>\n",
       "    </tr>\n",
       "  </tbody>\n",
       "</table>\n",
       "</div>"
      ],
      "text/plain": [
       "  keyLineDescription  Num_active_runners\n",
       "0               None                  30"
      ]
     },
     "execution_count": 23,
     "metadata": {},
     "output_type": "execute_result"
    }
   ],
   "source": [
    "# Create a price filter. Get all traded and offer data\n",
    "price_filter = filters.price_projection(\n",
    "    price_data=['EX_BEST_OFFERS']\n",
    ")\n",
    "\n",
    "# Request market books\n",
    "market_books = trading.betting.list_market_book(\n",
    "    market_ids=[myRaceID],\n",
    "    price_projection=price_filter\n",
    ")\n",
    "\n",
    "# Grab the first market book from the returned list as we only requested one market \n",
    "market_book = market_books[0]\n",
    "\n",
    "availableLays_df = pd.DataFrame({\n",
    "    'keyLineDescription': [market_obj.key_line_description for market_obj in market_books],\n",
    "    'Num_active_runners': [market_obj.number_of_runners for market_obj in market_books],\n",
    "})\n",
    "availableLays_df\n",
    "\n",
    "# runners_df = process_runner_books(market_book.runners)\n",
    "# runners_df"
   ]
  },
  {
   "cell_type": "code",
   "execution_count": null,
   "metadata": {},
   "outputs": [
    {
     "data": {
      "text/plain": [
       "{'orderType': 'LIMIT',\n",
       " 'selectionId': '39483384',\n",
       " 'side': 'LAY',\n",
       " 'limitOrder': {'price': 3, 'persistenceType': 'LAPSE', 'size': 5}}"
      ]
     },
     "execution_count": 92,
     "metadata": {},
     "output_type": "execute_result"
    }
   ],
   "source": [
    "fav_selection_id = runners_df.loc[runners_df['Best Lay Price'].idxmin(), 'Selection ID']\n",
    "fav_price = runners_df.loc[runners_df['Best Lay Price'].idxmin(), 'Best Lay Price']\n",
    "\n",
    "limit_order_filter = filters.limit_order(\n",
    "    size=5,\n",
    "    price=3,\n",
    "    persistence_type='LAPSE'\n",
    ")\n",
    "\n",
    "instructions_filter = filters.place_instruction(\n",
    "    selection_id = str(fav_selection_id),\n",
    "    order_type = \"LIMIT\",\n",
    "    side=\"LAY\",\n",
    "    limit_order=limit_order_filter\n",
    ")\n",
    "\n",
    "instructions_filter"
   ]
  },
  {
   "cell_type": "code",
   "execution_count": null,
   "metadata": {},
   "outputs": [],
   "source": [
    "# order = trading.betting.place_orders(\n",
    "#     market_id = myRaceID,\n",
    "#     customer_strategy_ref='Naing_maker',\n",
    "#     instructions=[instructions_filter]\n",
    "# )"
   ]
  },
  {
   "cell_type": "code",
   "execution_count": null,
   "metadata": {},
   "outputs": [],
   "source": [
    "# order.__dict__"
   ]
  },
  {
   "cell_type": "code",
   "execution_count": null,
   "metadata": {},
   "outputs": [],
   "source": [
    "# trading.betting.list_current_orders(customer_strategy_refs=['Naing_maker']).__dict__"
   ]
  },
  {
   "cell_type": "code",
   "execution_count": null,
   "metadata": {},
   "outputs": [],
   "source": [
    "# cancelled_order = trading.betting.cancel_orders(market_id=myRaceID)"
   ]
  },
  {
   "cell_type": "code",
   "execution_count": null,
   "metadata": {},
   "outputs": [],
   "source": [
    "# # listClearedOrders\n",
    "# cleared_orders = trading.betting.list_cleared_orders(bet_status=\"CANCELLED\",\n",
    "#                                                     market_ids=[myRaceID])\n",
    "# # Create a DataFrame from the orders\n",
    "# pd.DataFrame(cleared_orders._data['cancelledOrders'])\n",
    "# cleared_orders"
   ]
  },
  {
   "cell_type": "code",
   "execution_count": null,
   "metadata": {},
   "outputs": [],
   "source": []
  }
 ],
 "metadata": {
  "interpreter": {
   "hash": "c6a3c28759d14a7c3885e8ac024d33cdb7136c92631d6827abd304ad80418337"
  },
  "kernelspec": {
   "display_name": "Python 3.8.10 ('venv': venv)",
   "language": "python",
   "name": "python3"
  },
  "language_info": {
   "codemirror_mode": {
    "name": "ipython",
    "version": 3
   },
   "file_extension": ".py",
   "mimetype": "text/x-python",
   "name": "python",
   "nbconvert_exporter": "python",
   "pygments_lexer": "ipython3",
   "version": "3.8.10"
  },
  "orig_nbformat": 4
 },
 "nbformat": 4,
 "nbformat_minor": 2
}
