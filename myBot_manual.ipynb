{
 "cells": [
  {
   "cell_type": "code",
   "execution_count": 7,
   "metadata": {},
   "outputs": [],
   "source": [
    "# Import libraries\n",
    "import betfairlightweight\n",
    "from betfairlightweight import filters\n",
    "import pandas as pd\n",
    "import numpy as np\n",
    "import os\n",
    "import datetime\n",
    "import json\n",
    "from utils import process_runner_books\n",
    "\n",
    "# Change this certs path to wherever you're storing your certificates\n",
    "certs_path = \"/home/naing/certs/\"\n",
    "\n",
    "# Change these login details to your own\n",
    "my_username = \"mightytranks@gmail.com\"\n",
    "my_password = \"OsGiwuevzRf4925Lfty!\"\n",
    "my_app_key = \"X9EGwt5zbpg8o5xk\" #demo\n",
    "# my_app_key = \"XzTt9hf8DAsmOuUa\" #live\n",
    "\n",
    "trading = betfairlightweight.APIClient(username=my_username,\n",
    "                                       password=my_password,\n",
    "                                       app_key=my_app_key,\n",
    "                                       certs=certs_path)\n",
    "\n",
    "trading.login()\n"
   ]
  },
  {
   "cell_type": "code",
   "execution_count": 8,
   "metadata": {},
   "outputs": [
    {
     "data": {
      "text/plain": [
       "{'eventTypeIds': [4339],\n",
       " 'marketCountries': ['GB'],\n",
       " 'marketTypeCodes': ['FORECAST'],\n",
       " 'marketStartTime': {'to': '2022-06-19T07:34:56Z'}}"
      ]
     },
     "execution_count": 8,
     "metadata": {},
     "output_type": "execute_result"
    }
   ],
   "source": [
    "gh_racing_id = 4339 #Greyhound racing ID\n",
    "\n",
    "# Filter for just greyhoud racing\n",
    "greyhound_racing_filter = filters.market_filter(\n",
    "    event_type_ids=[gh_racing_id],\n",
    "    market_countries=['GB'],\n",
    "    market_type_codes=['FORECAST'],\n",
    "    market_start_time={\n",
    "        'to': (datetime.datetime.utcnow() + datetime.timedelta(hours=6)).strftime(\"%Y-%m-%dT%TZ\") #sydtime 5pm to 7am next day for GB gh races\n",
    "    }\n",
    ")\n",
    "greyhound_racing_filter"
   ]
  },
  {
   "cell_type": "code",
   "execution_count": 9,
   "metadata": {},
   "outputs": [
    {
     "data": {
      "text/html": [
       "<div>\n",
       "<style scoped>\n",
       "    .dataframe tbody tr th:only-of-type {\n",
       "        vertical-align: middle;\n",
       "    }\n",
       "\n",
       "    .dataframe tbody tr th {\n",
       "        vertical-align: top;\n",
       "    }\n",
       "\n",
       "    .dataframe thead th {\n",
       "        text-align: right;\n",
       "    }\n",
       "</style>\n",
       "<table border=\"1\" class=\"dataframe\">\n",
       "  <thead>\n",
       "    <tr style=\"text-align: right;\">\n",
       "      <th></th>\n",
       "      <th>Event Name</th>\n",
       "      <th>Event ID</th>\n",
       "      <th>Event Venue</th>\n",
       "      <th>Country Code</th>\n",
       "      <th>Time Zone</th>\n",
       "      <th>Open Date</th>\n",
       "      <th>Market Count</th>\n",
       "    </tr>\n",
       "  </thead>\n",
       "  <tbody>\n",
       "  </tbody>\n",
       "</table>\n",
       "</div>"
      ],
      "text/plain": [
       "Empty DataFrame\n",
       "Columns: [Event Name, Event ID, Event Venue, Country Code, Time Zone, Open Date, Market Count]\n",
       "Index: []"
      ]
     },
     "execution_count": 9,
     "metadata": {},
     "output_type": "execute_result"
    }
   ],
   "source": [
    "#  This returns a list\n",
    "gb_gh_events = trading.betting.list_events(\n",
    "    filter=greyhound_racing_filter)\n",
    "\n",
    "# Create a DataFrame with all the events by iterating over each event object\n",
    "gb_gh_events_df = pd.DataFrame({\n",
    "    'Event Name': [event_object.event.name for event_object in gb_gh_events],\n",
    "    'Event ID': [event_object.event.id for event_object in gb_gh_events],\n",
    "    'Event Venue': [event_object.event.venue for event_object in gb_gh_events],\n",
    "    'Country Code': [event_object.event.country_code for event_object in gb_gh_events],\n",
    "    'Time Zone': [event_object.event.time_zone for event_object in gb_gh_events],\n",
    "    'Open Date': [event_object.event.open_date for event_object in gb_gh_events],\n",
    "    'Market Count': [event_object.market_count for event_object in gb_gh_events]\n",
    "})\n",
    "\n",
    "gb_gh_events_df"
   ]
  },
  {
   "cell_type": "code",
   "execution_count": 10,
   "metadata": {},
   "outputs": [
    {
     "data": {
      "text/plain": [
       "([], [])"
      ]
     },
     "execution_count": 10,
     "metadata": {},
     "output_type": "execute_result"
    }
   ],
   "source": [
    "#TODO: extract a list of IDs for the forecast markets\n",
    "fc_venue_ids = []\n",
    "fc_venue_names = []\n",
    "for eventObj in gb_gh_events:\n",
    "    fc_venue_ids.append(eventObj.event.id)\n",
    "    fc_venue_names.append(eventObj.event.name)\n",
    "\n",
    "fc_venue_ids, fc_venue_names\n"
   ]
  },
  {
   "cell_type": "code",
   "execution_count": 1,
   "metadata": {},
   "outputs": [
    {
     "name": "stdout",
     "output_type": "stream",
     "text": [
      "['6.00', '3.70', '4.20', '8.00', '5.00', '3.00']\n",
      "['3.00', '3.70', '4.20', '5.00', '6.00', '8.00']\n",
      "6,2\n",
      "Lay option found successfully\n",
      "26\n"
     ]
    }
   ],
   "source": [
    "###\n",
    "# Get odds from NEDS\n",
    "###\n",
    "from utils import choose_lay_option\n",
    "\n",
    "venueName = 'doncaster'\n",
    "lay_option = choose_lay_option(venueName)\n",
    "if(lay_option == -1):\n",
    "    print(\"ERROR!!! 2 same odds found\")\n",
    "    \n",
    "elif(lay_option == -2):\n",
    "    print(\"ERROR!!! less than 6 runners\")\n",
    "\n",
    "else:\n",
    "    print(\"Lay option found successfully\")\n",
    "    print(lay_option)"
   ]
  },
  {
   "cell_type": "code",
   "execution_count": 20,
   "metadata": {},
   "outputs": [
    {
     "data": {
      "text/html": [
       "<div>\n",
       "<style scoped>\n",
       "    .dataframe tbody tr th:only-of-type {\n",
       "        vertical-align: middle;\n",
       "    }\n",
       "\n",
       "    .dataframe tbody tr th {\n",
       "        vertical-align: top;\n",
       "    }\n",
       "\n",
       "    .dataframe thead th {\n",
       "        text-align: right;\n",
       "    }\n",
       "</style>\n",
       "<table border=\"1\" class=\"dataframe\">\n",
       "  <thead>\n",
       "    <tr style=\"text-align: right;\">\n",
       "      <th></th>\n",
       "      <th>Market Name</th>\n",
       "      <th>Market ID</th>\n",
       "      <th>Market Start Time</th>\n",
       "      <th>Total Matched</th>\n",
       "      <th>Venue</th>\n",
       "    </tr>\n",
       "  </thead>\n",
       "  <tbody>\n",
       "    <tr>\n",
       "      <th>0</th>\n",
       "      <td>Forecast</td>\n",
       "      <td>1.200268737</td>\n",
       "      <td>None</td>\n",
       "      <td>0.0</td>\n",
       "      <td>None</td>\n",
       "    </tr>\n",
       "    <tr>\n",
       "      <th>1</th>\n",
       "      <td>Forecast</td>\n",
       "      <td>1.200268738</td>\n",
       "      <td>None</td>\n",
       "      <td>0.0</td>\n",
       "      <td>None</td>\n",
       "    </tr>\n",
       "    <tr>\n",
       "      <th>2</th>\n",
       "      <td>Forecast</td>\n",
       "      <td>1.200268739</td>\n",
       "      <td>None</td>\n",
       "      <td>0.0</td>\n",
       "      <td>None</td>\n",
       "    </tr>\n",
       "    <tr>\n",
       "      <th>3</th>\n",
       "      <td>Forecast</td>\n",
       "      <td>1.200270275</td>\n",
       "      <td>None</td>\n",
       "      <td>0.0</td>\n",
       "      <td>None</td>\n",
       "    </tr>\n",
       "    <tr>\n",
       "      <th>4</th>\n",
       "      <td>Forecast</td>\n",
       "      <td>1.200270276</td>\n",
       "      <td>None</td>\n",
       "      <td>0.0</td>\n",
       "      <td>None</td>\n",
       "    </tr>\n",
       "    <tr>\n",
       "      <th>5</th>\n",
       "      <td>Forecast</td>\n",
       "      <td>1.200270277</td>\n",
       "      <td>None</td>\n",
       "      <td>0.0</td>\n",
       "      <td>None</td>\n",
       "    </tr>\n",
       "    <tr>\n",
       "      <th>6</th>\n",
       "      <td>Forecast</td>\n",
       "      <td>1.200270278</td>\n",
       "      <td>None</td>\n",
       "      <td>0.0</td>\n",
       "      <td>None</td>\n",
       "    </tr>\n",
       "    <tr>\n",
       "      <th>7</th>\n",
       "      <td>Forecast</td>\n",
       "      <td>1.200270279</td>\n",
       "      <td>None</td>\n",
       "      <td>0.0</td>\n",
       "      <td>None</td>\n",
       "    </tr>\n",
       "    <tr>\n",
       "      <th>8</th>\n",
       "      <td>Forecast</td>\n",
       "      <td>1.200268788</td>\n",
       "      <td>None</td>\n",
       "      <td>0.0</td>\n",
       "      <td>None</td>\n",
       "    </tr>\n",
       "    <tr>\n",
       "      <th>9</th>\n",
       "      <td>Forecast</td>\n",
       "      <td>1.200268964</td>\n",
       "      <td>None</td>\n",
       "      <td>0.0</td>\n",
       "      <td>None</td>\n",
       "    </tr>\n",
       "  </tbody>\n",
       "</table>\n",
       "</div>"
      ],
      "text/plain": [
       "  Market Name    Market ID Market Start Time  Total Matched Venue\n",
       "0    Forecast  1.200268737              None            0.0  None\n",
       "1    Forecast  1.200268738              None            0.0  None\n",
       "2    Forecast  1.200268739              None            0.0  None\n",
       "3    Forecast  1.200270275              None            0.0  None\n",
       "4    Forecast  1.200270276              None            0.0  None\n",
       "5    Forecast  1.200270277              None            0.0  None\n",
       "6    Forecast  1.200270278              None            0.0  None\n",
       "7    Forecast  1.200270279              None            0.0  None\n",
       "8    Forecast  1.200268788              None            0.0  None\n",
       "9    Forecast  1.200268964              None            0.0  None"
      ]
     },
     "execution_count": 20,
     "metadata": {},
     "output_type": "execute_result"
    }
   ],
   "source": [
    "# market_catalogue_filter = filters.market_filter(event_ids=[venueOfTheDay_id])\n",
    "market_catalogue_filter = filters.market_filter(event_ids=fc_venue_ids)\n",
    "\n",
    "market_catalogues = trading.betting.list_market_catalogue(\n",
    "    filter=market_catalogue_filter,\n",
    "    max_results='10',\n",
    "    sort='FIRST_TO_START'\n",
    ")\n",
    "\n",
    "market_types_venueOfTheDay_df = pd.DataFrame({\n",
    "    'Market Name': [market_cat_object.market_name for market_cat_object in market_catalogues],\n",
    "    'Market ID': [market_cat_object.market_id for market_cat_object in market_catalogues],\n",
    "    'Market Start Time': [market_cat_object.market_start_time for market_cat_object in market_catalogues],\n",
    "    'Total Matched': [market_cat_object.total_matched for market_cat_object in market_catalogues],\n",
    "    'Venue': [market_cat_object.event.venue for market_cat_object in market_catalogues]\n",
    "    \n",
    "})\n",
    "market_types_venueOfTheDay_df"
   ]
  },
  {
   "cell_type": "code",
   "execution_count": 21,
   "metadata": {},
   "outputs": [
    {
     "data": {
      "text/plain": [
       "['1.200268737',\n",
       " '1.200268738',\n",
       " '1.200268739',\n",
       " '1.200270275',\n",
       " '1.200270276',\n",
       " '1.200270277',\n",
       " '1.200270278',\n",
       " '1.200270279',\n",
       " '1.200268788',\n",
       " '1.200268964']"
      ]
     },
     "execution_count": 21,
     "metadata": {},
     "output_type": "execute_result"
    }
   ],
   "source": [
    "#TODO: extract a list of IDs for the forecast markets\n",
    "fc_race_ids = []\n",
    "fc_race_names = []\n",
    "for raceObj in market_catalogues:\n",
    "    fc_race_ids.append(raceObj.market_id)\n",
    "\n",
    "fc_race_ids"
   ]
  },
  {
   "cell_type": "code",
   "execution_count": 22,
   "metadata": {},
   "outputs": [],
   "source": [
    "# pick the random race id\n",
    "# random_pick = random.randint(1,len(fc_race_ids))\n",
    "# myRaceID = fc_race_ids[0]\n",
    "myRaceID = '1.200268737'"
   ]
  },
  {
   "cell_type": "code",
   "execution_count": 23,
   "metadata": {},
   "outputs": [
    {
     "data": {
      "text/html": [
       "<div>\n",
       "<style scoped>\n",
       "    .dataframe tbody tr th:only-of-type {\n",
       "        vertical-align: middle;\n",
       "    }\n",
       "\n",
       "    .dataframe tbody tr th {\n",
       "        vertical-align: top;\n",
       "    }\n",
       "\n",
       "    .dataframe thead th {\n",
       "        text-align: right;\n",
       "    }\n",
       "</style>\n",
       "<table border=\"1\" class=\"dataframe\">\n",
       "  <thead>\n",
       "    <tr style=\"text-align: right;\">\n",
       "      <th></th>\n",
       "      <th>keyLineDescription</th>\n",
       "      <th>Num_active_runners</th>\n",
       "    </tr>\n",
       "  </thead>\n",
       "  <tbody>\n",
       "    <tr>\n",
       "      <th>0</th>\n",
       "      <td>None</td>\n",
       "      <td>30</td>\n",
       "    </tr>\n",
       "  </tbody>\n",
       "</table>\n",
       "</div>"
      ],
      "text/plain": [
       "  keyLineDescription  Num_active_runners\n",
       "0               None                  30"
      ]
     },
     "execution_count": 23,
     "metadata": {},
     "output_type": "execute_result"
    }
   ],
   "source": [
    "# Create a price filter. Get all traded and offer data\n",
    "price_filter = filters.price_projection(\n",
    "    price_data=['EX_BEST_OFFERS']\n",
    ")\n",
    "\n",
    "# Request market books\n",
    "market_books = trading.betting.list_market_book(\n",
    "    market_ids=[myRaceID],\n",
    "    price_projection=price_filter\n",
    ")\n",
    "\n",
    "# Grab the first market book from the returned list as we only requested one market \n",
    "market_book = market_books[0]\n",
    "\n",
    "availableLays_df = pd.DataFrame({\n",
    "    'keyLineDescription': [market_obj.key_line_description for market_obj in market_books],\n",
    "    'Num_active_runners': [market_obj.number_of_runners for market_obj in market_books],\n",
    "})\n",
    "availableLays_df\n",
    "\n",
    "# runners_df = process_runner_books(market_book.runners)\n",
    "# runners_df"
   ]
  },
  {
   "cell_type": "code",
   "execution_count": null,
   "metadata": {},
   "outputs": [
    {
     "data": {
      "text/plain": [
       "{'orderType': 'LIMIT',\n",
       " 'selectionId': '39483384',\n",
       " 'side': 'LAY',\n",
       " 'limitOrder': {'price': 3, 'persistenceType': 'LAPSE', 'size': 5}}"
      ]
     },
     "execution_count": 92,
     "metadata": {},
     "output_type": "execute_result"
    }
   ],
   "source": [
    "fav_selection_id = runners_df.loc[runners_df['Best Lay Price'].idxmin(), 'Selection ID']\n",
    "fav_price = runners_df.loc[runners_df['Best Lay Price'].idxmin(), 'Best Lay Price']\n",
    "\n",
    "limit_order_filter = filters.limit_order(\n",
    "    size=5,\n",
    "    price=3,\n",
    "    persistence_type='LAPSE'\n",
    ")\n",
    "\n",
    "instructions_filter = filters.place_instruction(\n",
    "    selection_id = str(fav_selection_id),\n",
    "    order_type = \"LIMIT\",\n",
    "    side=\"LAY\",\n",
    "    limit_order=limit_order_filter\n",
    ")\n",
    "\n",
    "instructions_filter"
   ]
  },
  {
   "cell_type": "code",
   "execution_count": null,
   "metadata": {},
   "outputs": [],
   "source": [
    "# order = trading.betting.place_orders(\n",
    "#     market_id = myRaceID,\n",
    "#     customer_strategy_ref='Naing_maker',\n",
    "#     instructions=[instructions_filter]\n",
    "# )"
   ]
  },
  {
   "cell_type": "code",
   "execution_count": null,
   "metadata": {},
   "outputs": [],
   "source": [
    "# order.__dict__"
   ]
  },
  {
   "cell_type": "code",
   "execution_count": null,
   "metadata": {},
   "outputs": [],
   "source": [
    "# trading.betting.list_current_orders(customer_strategy_refs=['Naing_maker']).__dict__"
   ]
  },
  {
   "cell_type": "code",
   "execution_count": null,
   "metadata": {},
   "outputs": [],
   "source": [
    "# cancelled_order = trading.betting.cancel_orders(market_id=myRaceID)"
   ]
  },
  {
   "cell_type": "code",
   "execution_count": null,
   "metadata": {},
   "outputs": [],
   "source": [
    "# # listClearedOrders\n",
    "# cleared_orders = trading.betting.list_cleared_orders(bet_status=\"CANCELLED\",\n",
    "#                                                     market_ids=[myRaceID])\n",
    "# # Create a DataFrame from the orders\n",
    "# pd.DataFrame(cleared_orders._data['cancelledOrders'])\n",
    "# cleared_orders"
   ]
  },
  {
   "cell_type": "code",
   "execution_count": null,
   "metadata": {},
   "outputs": [],
   "source": []
  }
 ],
 "metadata": {
  "interpreter": {
   "hash": "c6a3c28759d14a7c3885e8ac024d33cdb7136c92631d6827abd304ad80418337"
  },
  "kernelspec": {
   "display_name": "Python 3.8.10 ('venv': venv)",
   "language": "python",
   "name": "python3"
  },
  "language_info": {
   "codemirror_mode": {
    "name": "ipython",
    "version": 3
   },
   "file_extension": ".py",
   "mimetype": "text/x-python",
   "name": "python",
   "nbconvert_exporter": "python",
   "pygments_lexer": "ipython3",
   "version": "3.8.10"
  },
  "orig_nbformat": 4
 },
 "nbformat": 4,
 "nbformat_minor": 2
}
